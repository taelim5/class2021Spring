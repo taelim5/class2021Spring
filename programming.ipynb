{
  "nbformat": 4,
  "nbformat_minor": 0,
  "metadata": {
    "colab": {
      "name": "Untitled0.ipynb",
      "provenance": [],
      "authorship_tag": "ABX9TyMI14dBgMG5fpZAo9T09S1Y",
      "include_colab_link": true
    },
    "kernelspec": {
      "name": "python3",
      "display_name": "Python 3"
    }
  },
  "cells": [
    {
      "cell_type": "markdown",
      "metadata": {
        "id": "view-in-github",
        "colab_type": "text"
      },
      "source": [
        "<a href=\"https://colab.research.google.com/github/taelim5/class2021Spring/blob/main/programming.ipynb\" target=\"_parent\"><img src=\"https://colab.research.google.com/assets/colab-badge.svg\" alt=\"Open In Colab\"/></a>"
      ]
    },
    {
      "cell_type": "code",
      "metadata": {
        "id": "Zcm4tagso33t"
      },
      "source": [
        ""
      ],
      "execution_count": null,
      "outputs": []
    },
    {
      "cell_type": "markdown",
      "metadata": {
        "id": "dLx3MR-co4-x"
      },
      "source": [
        "**변수**: 인간 언어에서 단어가 내용에 대응하는 역할을 하듯 컴퓨터 언어에서 내용과 대응되는 이름.\r\n",
        "\r\n",
        "**제어문**: 인간 언어의 문법처럼 컴퓨터 언어에서 문법과 유사한 역할을 함. 대표적으로 for과 if가 있으며, for은 반복을, if는 조건을 의미함.\r\n",
        "\r\n",
        "**함수**: 입출력 관계에서 입력에 어떠한 변화를 주어 결과를 출력해내는 것, 또는 그 변화."
      ]
    }
  ]
}