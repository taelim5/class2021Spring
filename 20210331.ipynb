{
  "nbformat": 4,
  "nbformat_minor": 0,
  "metadata": {
    "colab": {
      "name": "Untitled7.ipynb",
      "provenance": [],
      "authorship_tag": "ABX9TyPTNFQWRChn+USh/GJ1HSct",
      "include_colab_link": true
    },
    "kernelspec": {
      "name": "python3",
      "display_name": "Python 3"
    },
    "language_info": {
      "name": "python"
    }
  },
  "cells": [
    {
      "cell_type": "markdown",
      "metadata": {
        "id": "view-in-github",
        "colab_type": "text"
      },
      "source": [
        "<a href=\"https://colab.research.google.com/github/taelim5/class2021Spring/blob/main/20210331.ipynb\" target=\"_parent\"><img src=\"https://colab.research.google.com/assets/colab-badge.svg\" alt=\"Open In Colab\"/></a>"
      ]
    },
    {
      "cell_type": "code",
      "metadata": {
        "id": "Mo1UeKQS4WMr"
      },
      "source": [
        "a pitch: 232Hz\n",
        "  intensity: 69.11dB\n",
        "  formant: 1st-989.6Hz, 2nd-1500Hz\n",
        "  duration: 0.488237 sec\n",
        "\n",
        "e pitch: 237Hz\n",
        "  intensity: 61.2dB\n",
        "  formant: 1st-734.4Hz, 2nd-2106Hz\n",
        "  duration: 0.551920 sec"
      ],
      "execution_count": null,
      "outputs": []
    }
  ]
}