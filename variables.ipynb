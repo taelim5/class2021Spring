{
  "nbformat": 4,
  "nbformat_minor": 0,
  "metadata": {
    "colab": {
      "name": "Untitled2.ipynb",
      "provenance": [],
      "authorship_tag": "ABX9TyM3fPcOVA/C3wyOpFAzbYuZ",
      "include_colab_link": true
    },
    "kernelspec": {
      "name": "python3",
      "display_name": "Python 3"
    }
  },
  "cells": [
    {
      "cell_type": "markdown",
      "metadata": {
        "id": "view-in-github",
        "colab_type": "text"
      },
      "source": [
        "<a href=\"https://colab.research.google.com/github/taelim5/class2021Spring/blob/main/variables.ipynb\" target=\"_parent\"><img src=\"https://colab.research.google.com/assets/colab-badge.svg\" alt=\"Open In Colab\"/></a>"
      ]
    },
    {
      "cell_type": "markdown",
      "metadata": {
        "id": "w4iO-vqJgjSN"
      },
      "source": [
        "\r\n",
        "\r\n",
        "*   숫자형  \r\n",
        "  -float: 소수점 있음  \r\n",
        "  -int: 정수  \r\n",
        "*   문자열  \r\n",
        "  -주로 ' ' 사용\r\n",
        "*   리스트 자료형  \r\n",
        "  -[ ] 사용  \r\n",
        "  -ex) a = [1, '2', [3, '태림']]  \r\n",
        "  -[ ]안에 숫자형과 문자열 모두 사용 가능\r\n",
        "*   튜플  \r\n",
        "  -리스트와 유사  \r\n",
        "  -바꿀 수 없어서 비교적 안전.  \r\n",
        "*   딕셔너리 자료형  \r\n",
        "  -{ } 사용  \r\n",
        "  -'dict'\r\n",
        "  -a = {\"a\": \"x\", ...}\r\n",
        "  -숫자, 문자 모두 가능\r\n",
        "*  s = [1:3]\r\n",
        "  ->index 1부터 index 3 전까지라는 뜻\r\n",
        "*  s[-1]은 마지막, s[-2]는 마지막에서 두번째 ...\r\n",
        "*  len은 length라는 뜻.  \r\n",
        "  -ex)n=[1, 2, 3]  \r\n",
        "  len(n)  \r\n",
        "  ->3\r\n",
        "*  ／n은 줄바꿈\r\n",
        "*  for 변수 in ~  \r\n",
        "  ex) a=[1, 2, 3, 4]\r\n",
        "    for i in a:  \r\n",
        "    print (i)  \r\n",
        "    1  \r\n",
        "    2  \r\n",
        "    3  \r\n",
        "    4  \r\n",
        "\r\n",
        "\r\n",
        "\r\n",
        "\r\n",
        "\r\n",
        "\r\n",
        "\r\n",
        "\r\n",
        "\r\n"
      ]
    },
    {
      "cell_type": "code",
      "metadata": {
        "id": "goAyoU7vRheI",
        "outputId": "1975e089-5fef-4133-a5ea-08626846d9b2",
        "colab": {
          "base_uri": "https://localhost:8080/"
        }
      },
      "source": [
        "a = 3\r\n",
        "print(type(a))"
      ],
      "execution_count": 11,
      "outputs": [
        {
          "output_type": "stream",
          "text": [
            "<class 'int'>\n"
          ],
          "name": "stdout"
        }
      ]
    },
    {
      "cell_type": "code",
      "metadata": {
        "id": "txxnoqJuRheJ",
        "outputId": "cbb81cb6-d136-41ac-b30f-18c36a840f30",
        "colab": {
          "base_uri": "https://localhost:8080/"
        }
      },
      "source": [
        "a = 10; a = float(a); print(type(a))"
      ],
      "execution_count": 4,
      "outputs": [
        {
          "output_type": "stream",
          "text": [
            "<class 'float'>\n"
          ],
          "name": "stdout"
        }
      ]
    },
    {
      "cell_type": "code",
      "metadata": {
        "id": "By9UCBctRheK",
        "outputId": "859a4188-0c8e-491c-dd55-3dd7abbefab0",
        "colab": {
          "base_uri": "https://localhost:8080/"
        }
      },
      "source": [
        "a = 1.2; a = int(a); print(type(a))"
      ],
      "execution_count": 5,
      "outputs": [
        {
          "output_type": "stream",
          "text": [
            "<class 'int'>\n"
          ],
          "name": "stdout"
        }
      ]
    },
    {
      "cell_type": "code",
      "metadata": {
        "id": "SyP0PB86RheL",
        "outputId": "8085d4e4-d131-41c6-8552-cdae906ad419",
        "colab": {
          "base_uri": "https://localhost:8080/"
        }
      },
      "source": [
        "a = '안녕하세요'; print(type(a)); print(a[0])"
      ],
      "execution_count": 8,
      "outputs": [
        {
          "output_type": "stream",
          "text": [
            "<class 'str'>\n",
            "안\n"
          ],
          "name": "stdout"
        }
      ]
    },
    {
      "cell_type": "code",
      "metadata": {
        "id": "byDy9oFERheL",
        "outputId": "060bcc41-43ae-4ca3-d449-39e998c84974",
        "colab": {
          "base_uri": "https://localhost:8080/"
        }
      },
      "source": [
        "a = '오태림'; a = list(a); print(type(a)); print(a); print(a[-1])"
      ],
      "execution_count": 18,
      "outputs": [
        {
          "output_type": "stream",
          "text": [
            "<class 'list'>\n",
            "['오', '태', '림']\n",
            "림\n"
          ],
          "name": "stdout"
        }
      ]
    },
    {
      "cell_type": "code",
      "metadata": {
        "id": "DfS-gknCRheL",
        "outputId": "5632ac74-bf0b-4d29-a939-b680052d3284",
        "colab": {
          "base_uri": "https://localhost:8080/"
        }
      },
      "source": [
        "a = [0,'2', [3, '학교']]; print(type(a)); print(a[0]); print(a[1]); print(a[1:])"
      ],
      "execution_count": 21,
      "outputs": [
        {
          "output_type": "stream",
          "text": [
            "<class 'list'>\n",
            "0\n",
            "2\n",
            "['2', [3, '학교']]\n"
          ],
          "name": "stdout"
        }
      ]
    },
    {
      "cell_type": "code",
      "metadata": {
        "id": "wuUZdEnyRheM",
        "outputId": "3c34fecc-d54e-422e-a5e1-b90d66d09555",
        "colab": {
          "base_uri": "https://localhost:8080/"
        }
      },
      "source": [
        "a = (1,'태림', [9, '4']); print(type(a)); print(a[0]); print(a[1]); print(a[-2:])"
      ],
      "execution_count": 24,
      "outputs": [
        {
          "output_type": "stream",
          "text": [
            "<class 'tuple'>\n",
            "1\n",
            "태림\n",
            "('태림', [9, '4'])\n"
          ],
          "name": "stdout"
        }
      ]
    },
    {
      "cell_type": "code",
      "metadata": {
        "id": "2sivfloGRheM",
        "outputId": "d50e6e7f-4f19-4462-a0fd-1b8e97c7e7ab",
        "colab": {
          "base_uri": "https://localhost:8080/"
        }
      },
      "source": [
        "a =\t{\"a\": \"감자\", \"b\": \"고구마\", \"c\": 2021}\n",
        "print(type(a))\n",
        "print(a[\"c\"])"
      ],
      "execution_count": 29,
      "outputs": [
        {
          "output_type": "stream",
          "text": [
            "<class 'dict'>\n",
            "2021\n"
          ],
          "name": "stdout"
        }
      ]
    },
    {
      "cell_type": "code",
      "metadata": {
        "id": "A7teRXuCRheN",
        "outputId": "94754619-a62a-46ab-8df1-53e1a626eca0",
        "colab": {
          "base_uri": "https://localhost:8080/"
        }
      },
      "source": [
        "a=[(1,2,'안녕하세요'), (3,8,0)]\n",
        "print(type(a))\n",
        "a[0]"
      ],
      "execution_count": 31,
      "outputs": [
        {
          "output_type": "stream",
          "text": [
            "<class 'list'>\n"
          ],
          "name": "stdout"
        },
        {
          "output_type": "execute_result",
          "data": {
            "text/plain": [
              "(1, 2, '안녕하세요')"
            ]
          },
          "metadata": {
            "tags": []
          },
          "execution_count": 31
        }
      ]
    }
  ]
}