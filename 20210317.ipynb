{
  "nbformat": 4,
  "nbformat_minor": 0,
  "metadata": {
    "colab": {
      "name": "Untitled5.ipynb",
      "provenance": [],
      "authorship_tag": "ABX9TyNuQ/APtUqEP3aD0wMDJWUh",
      "include_colab_link": true
    },
    "kernelspec": {
      "name": "python3",
      "display_name": "Python 3"
    }
  },
  "cells": [
    {
      "cell_type": "markdown",
      "metadata": {
        "id": "view-in-github",
        "colab_type": "text"
      },
      "source": [
        "<a href=\"https://colab.research.google.com/github/taelim5/class2021Spring/blob/main/20210317.ipynb\" target=\"_parent\"><img src=\"https://colab.research.google.com/assets/colab-badge.svg\" alt=\"Open In Colab\"/></a>"
      ]
    },
    {
      "cell_type": "code",
      "metadata": {
        "colab": {
          "base_uri": "https://localhost:8080/"
        },
        "id": "3Tj4Jmeovtrs",
        "outputId": "e0e471f0-bfb4-480c-b46c-6f4e60152fb9"
      },
      "source": [
        "for i in range(5, 8):\r\n",
        "    for j in range(8, 10):\r\n",
        "        if j >=9:\r\n",
        "            print(i*j)"
      ],
      "execution_count": 6,
      "outputs": [
        {
          "output_type": "stream",
          "text": [
            "45\n",
            "54\n",
            "63\n"
          ],
          "name": "stdout"
        }
      ]
    },
    {
      "cell_type": "code",
      "metadata": {
        "colab": {
          "base_uri": "https://localhost:8080/"
        },
        "id": "z4BkFYTHwANH",
        "outputId": "3e2b5c9f-48bc-4a8f-9715-9ccacef3f5f5"
      },
      "source": [
        "a = ['I', 'go', 'to', 'school']\r\n",
        "b = [i for i in a if len(i) >=2]\r\n",
        "b"
      ],
      "execution_count": 10,
      "outputs": [
        {
          "output_type": "execute_result",
          "data": {
            "text/plain": [
              "['go', 'to', 'school']"
            ]
          },
          "metadata": {
            "tags": []
          },
          "execution_count": 10
        }
      ]
    }
  ]
}