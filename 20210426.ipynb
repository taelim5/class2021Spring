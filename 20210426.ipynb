{
  "nbformat": 4,
  "nbformat_minor": 0,
  "metadata": {
    "colab": {
      "name": "Untitled12.ipynb",
      "provenance": [],
      "authorship_tag": "ABX9TyN+f/FVKQgtrzVvmx9E/o73",
      "include_colab_link": true
    },
    "kernelspec": {
      "name": "python3",
      "display_name": "Python 3"
    },
    "language_info": {
      "name": "python"
    }
  },
  "cells": [
    {
      "cell_type": "markdown",
      "metadata": {
        "id": "view-in-github",
        "colab_type": "text"
      },
      "source": [
        "<a href=\"https://colab.research.google.com/github/taelim5/class2021Spring/blob/main/20210426.ipynb\" target=\"_parent\"><img src=\"https://colab.research.google.com/assets/colab-badge.svg\" alt=\"Open In Colab\"/></a>"
      ]
    },
    {
      "cell_type": "code",
      "metadata": {
        "id": "JAQAuFecx6Yd"
      },
      "source": [
        "%matplotlib inline\n",
        "from matplotlib import pyplot as plt\n",
        "import IPython.display as ipd\n",
        "import numpy as np\n",
        "from scipy.signal import lfilter\n",
        "\n",
        "def phasor(amp,sr,dur,freq):\n",
        "  amp=1\n",
        "  sr=10000\n",
        "  dur=2\n",
        "  freq=500\n",
        "\n",
        "t = np.arange(1, sr*dur +1)/sr\n",
        "theta = t * 2*np.pi * freq\n",
        "s = np.sin(theta)\n",
        "\n",
        "return t, theta, s"
      ],
      "execution_count": null,
      "outputs": []
    }
  ]
}